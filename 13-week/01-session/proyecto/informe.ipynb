{
 "cells": [
  {
   "cell_type": "markdown",
   "id": "eb012450",
   "metadata": {},
   "source": [
    "# Proyecto"
   ]
  },
  {
   "cell_type": "markdown",
   "id": "52b101aa",
   "metadata": {},
   "source": [
    "---\n",
    "# Librerias\n"
   ]
  },
  {
   "cell_type": "code",
   "execution_count": null,
   "id": "0b5d4182",
   "metadata": {},
   "outputs": [],
   "source": [
    "import pandas as pd\n",
    "import numpy as np\n",
    "import matplotlib.pyplot as plt\n",
    "import seaborn as sns\n",
    "import sys\n",
    "\n",
    "# Agregar la ruta de la biblioteca al path\n",
    "sys.path.append('library')\n",
    "\n",
    "# Importar funciones de estilo personalizadas\n",
    "from style import (\n",
    "    configurar_estilo_global,\n",
    "    grafica_barras_aprobados,\n",
    "    grafica_pastel_aprobados,\n",
    "    grafica_histograma_notas,\n",
    "    grafica_barras_por_corte,\n",
    "    mostrar_estadisticas_tabla,\n",
    "    guardar_grafica,\n",
    "    COLORES\n",
    ")\n",
    "\n",
    "# Configurar estilo global\n",
    "configurar_estilo_global()\n",
    "print(\"✓ Librerías cargadas correctamente\")\n",
    "print(\"✓ Estilos configurados\")"
   ]
  },
  {
   "cell_type": "markdown",
   "id": "7f170a3b",
   "metadata": {},
   "source": [
    "---\n",
    "# Fase 1"
   ]
  },
  {
   "cell_type": "code",
   "execution_count": null,
   "id": "d568551a",
   "metadata": {},
   "outputs": [],
   "source": [
    "# Gráfica de barras por corte de cada estudiante\n",
    "fig, ax = grafica_barras_por_corte(df)\n",
    "plt.show()\n",
    "\n",
    "# Guardar la gráfica\n",
    "guardar_grafica(fig, 'notas_por_corte')"
   ]
  },
  {
   "cell_type": "code",
   "execution_count": null,
   "id": "9682f8ab",
   "metadata": {},
   "outputs": [],
   "source": [
    "# Histograma de distribución de notas finales\n",
    "fig, ax = grafica_histograma_notas(df, columna='Nota_Final', bins=12)\n",
    "plt.show()\n",
    "\n",
    "# Guardar la gráfica\n",
    "guardar_grafica(fig, 'histograma_notas_finales')"
   ]
  },
  {
   "cell_type": "markdown",
   "id": "4805713a",
   "metadata": {},
   "source": [
    "## 1.5 Análisis Adicional"
   ]
  },
  {
   "cell_type": "code",
   "execution_count": null,
   "id": "9e69a147",
   "metadata": {},
   "outputs": [],
   "source": [
    "# Gráfica de pastel usando la función de estilo\n",
    "fig, ax = grafica_pastel_aprobados(conteo_estado)\n",
    "plt.show()\n",
    "\n",
    "# Guardar la gráfica\n",
    "guardar_grafica(fig, 'grafica_pastel_aprobados')"
   ]
  },
  {
   "cell_type": "code",
   "execution_count": null,
   "id": "84ce91b0",
   "metadata": {},
   "outputs": [],
   "source": [
    "# Gráfica de barras usando la función de estilo\n",
    "fig, ax = grafica_barras_aprobados(conteo_estado, len(df))\n",
    "plt.show()\n",
    "\n",
    "# Guardar la gráfica\n",
    "guardar_grafica(fig, 'grafica_barras_aprobados')"
   ]
  },
  {
   "cell_type": "markdown",
   "id": "8bfcd608",
   "metadata": {},
   "source": [
    "## 1.4 Visualización de Resultados"
   ]
  },
  {
   "cell_type": "code",
   "execution_count": null,
   "id": "236e07a6",
   "metadata": {},
   "outputs": [],
   "source": [
    "# Contar estudiantes aprobados y no aprobados\n",
    "conteo_estado = df['Estado'].value_counts()\n",
    "\n",
    "# Mostrar estadísticas usando la función de estilo\n",
    "mostrar_estadisticas_tabla(df)"
   ]
  },
  {
   "cell_type": "markdown",
   "id": "c239c9a8",
   "metadata": {},
   "source": [
    "## 1.3 Resumen Estadístico"
   ]
  },
  {
   "cell_type": "code",
   "execution_count": null,
   "id": "a3b891ee",
   "metadata": {},
   "outputs": [],
   "source": [
    "# Calcular la nota final\n",
    "# Corte 1: 30%, Corte 2: 30%, Corte 3: 40%\n",
    "df['Nota_Final'] = (df['Corte 1'] * 0.3) + (df['Corte 2'] * 0.3) + (df['Corte 3'] * 0.4)\n",
    "\n",
    "# Determinar si aprobó o no (nota mínima para aprobar: 3.0)\n",
    "df['Estado'] = df['Nota_Final'].apply(lambda x: 'Aprobado' if x >= 3.0 else 'No Aprobado')\n",
    "\n",
    "# Mostrar resultados\n",
    "print(\"=== Tabla de Resultados ===\")\n",
    "print(df[['Nombres', 'Apellidos', 'Corte 1', 'Corte 2', 'Corte 3', 'Nota_Final', 'Estado']].to_string(index=False))"
   ]
  },
  {
   "cell_type": "markdown",
   "id": "acb12b7f",
   "metadata": {},
   "source": [
    "## 1.2 Calcular Nota Final\n",
    "\n",
    "La nota final se calcula con la siguiente ponderación:\n",
    "- **Corte 1**: 30% (0.3)\n",
    "- **Corte 2**: 30% (0.3)\n",
    "- **Corte 3**: 40% (0.4)\n",
    "\n",
    "Un estudiante aprueba si su nota final es mayor o igual a **3.0**"
   ]
  },
  {
   "cell_type": "code",
   "execution_count": null,
   "id": "ebe093ee",
   "metadata": {},
   "outputs": [],
   "source": [
    "# Cargar los datos desde el archivo CSV\n",
    "df = pd.read_csv('data/input/data/notas_estudiante.csv')\n",
    "\n",
    "# Mostrar las primeras filas del dataset\n",
    "print(\"=== Primeras 5 filas del dataset ===\")\n",
    "print(df.head())\n",
    "\n",
    "# Información del dataset\n",
    "print(f\"\\n=== Información del Dataset ===\")\n",
    "print(f\"Total de estudiantes: {len(df)}\")\n",
    "print(f\"Columnas: {list(df.columns)}\")"
   ]
  },
  {
   "cell_type": "markdown",
   "id": "5559eae9",
   "metadata": {},
   "source": [
    "## 1.1 Cargar Datos"
   ]
  }
 ],
 "metadata": {
  "kernelspec": {
   "display_name": "Python 3",
   "language": "python",
   "name": "python3"
  },
  "language_info": {
   "codemirror_mode": {
    "name": "ipython",
    "version": 3
   },
   "file_extension": ".py",
   "mimetype": "text/x-python",
   "name": "python",
   "nbconvert_exporter": "python",
   "pygments_lexer": "ipython3",
   "version": "3.12.0"
  }
 },
 "nbformat": 4,
 "nbformat_minor": 5
}
